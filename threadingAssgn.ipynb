{
 "cells": [
  {
   "cell_type": "markdown",
   "id": "0750006e-168a-4aad-8559-af878e07a6aa",
   "metadata": {},
   "source": [
    "## Q1.  What is multithreading in python? Why is it used? Name the module used to handle threads in python"
   ]
  },
  {
   "cell_type": "markdown",
   "id": "bbea01dd-31c8-40a7-b2cc-7b7de463fbd9",
   "metadata": {},
   "source": [
    "\"\"\"\n",
    "Multithreading in Python refers to the concurrent execution of multiple threads within the same process.\n",
    "Used for various purposes :\n",
    "- Concurrency \n",
    "- Simplified Design\n",
    "- Parallelism\n",
    "\n",
    "Multithreading in Python is used to achieve concurrency, parallelism, and better program structure,\n",
    "and the threading module is employed to handle threads in Python.\n",
    "\"\"\""
   ]
  },
  {
   "cell_type": "markdown",
   "id": "ee20f257-3577-43cc-a010-f3ceda1cc3bd",
   "metadata": {},
   "source": [
    "## Q2."
   ]
  },
  {
   "cell_type": "markdown",
   "id": "23d0e0fe-843a-4e3f-a6aa-c2d6504ab73c",
   "metadata": {},
   "source": [
    "\"\"\"\n",
    "The threading module in Python is used to create and manage threads.\n",
    "\n",
    "threading.activeCount(): This function returns the number of Thread objects currently alive. It counts all Thread objects,\n",
    "including the main thread and any additional threads you've created.\n",
    "\n",
    "threading.currentThread(): This function returns the currently executing Thread object. \n",
    "\n",
    "threading.enumerate(): This function returns a list of all Thread objects currently alive. \n",
    "It provides a way to iterate over and access information about all the threads in your program\n",
    "\n",
    "\"\"\""
   ]
  },
  {
   "cell_type": "markdown",
   "id": "31780dad-751f-4a33-9983-e2b0c9c2ab18",
   "metadata": {},
   "source": [
    "## Q3."
   ]
  },
  {
   "cell_type": "markdown",
   "id": "b766f217-29f2-4b50-9dcb-d0130ebff408",
   "metadata": {},
   "source": [
    "\"\"\"\n",
    "The run() method is not typically called directly by the programmer. Instead, it is the method that represents the code to be executed by a thread. \n",
    "You should subclass the Thread class and override the run() method in your own class. \n",
    "\n",
    "The start() method is used to begin the execution of a thread. It initializes the thread and calls the run() method asynchronously.\n",
    "\n",
    "The join() method is used to wait for a thread to complete its execution. When you call join() on a thread, \n",
    "the program will block until the thread has finished.\n",
    "\n",
    "The isAlive() method is used to check whether a thread is currently running or has finished. \n",
    "It returns True if the thread is still running and False if it has completed. \n",
    "\"\"\""
   ]
  },
  {
   "cell_type": "markdown",
   "id": "87a22336-5bec-40ab-8a47-9040193621c8",
   "metadata": {},
   "source": [
    "## Q4."
   ]
  },
  {
   "cell_type": "code",
   "execution_count": 3,
   "id": "98233444-14ca-4906-b882-dbf8a77e1f59",
   "metadata": {},
   "outputs": [
    {
     "name": "stdout",
     "output_type": "stream",
     "text": [
      "Square of 1 is 1\n",
      "Square of 2 is 4\n",
      "Square of 3 is 9\n",
      "Square of 4 is 16\n",
      "Square of 5 is 25\n",
      "Cube of 1 is 1\n",
      "Cube of 2 is 8\n",
      "Cube of 3 is 27\n",
      "Cube of 4 is 64\n",
      "Cube of 5 is 125\n",
      "Both threads have finished.\n"
     ]
    }
   ],
   "source": [
    "import threading\n",
    "\n",
    "def print_squares():\n",
    "    for i in range(1, 6):\n",
    "        print(f\"Square of {i} is {i**2}\")\n",
    "\n",
    "def print_cubes():\n",
    "    for i in range(1, 6):\n",
    "        print(f\"Cube of {i} is {i**3}\")\n",
    "\n",
    "thread1 = threading.Thread(target=print_squares)\n",
    "thread2 = threading.Thread(target=print_cubes)\n",
    "\n",
    "thread1.start()\n",
    "thread2.start()\n",
    "\n",
    "thread1.join()\n",
    "thread2.join()\n",
    "\n",
    "print(\"Both threads have finished.\")"
   ]
  },
  {
   "cell_type": "markdown",
   "id": "87d60884-83aa-4f3b-8116-a1a5e648b903",
   "metadata": {},
   "source": [
    "## Q5."
   ]
  },
  {
   "cell_type": "markdown",
   "id": "071512bd-2143-4bed-99fe-5b193a7e7d09",
   "metadata": {},
   "source": [
    "\"\"\"\n",
    "Advantages : \n",
    "- Concurrency \n",
    "- Parallelism\n",
    "- Responsiveness\n",
    "- Modularity \n",
    "- Resource Sharing\n",
    "\n",
    "Disadvantages : \n",
    "- GIL Limitations \n",
    "- Concurrency bugs\n",
    "- Complexity \n",
    "- Portability\n",
    "- Resource Management\n",
    "\"\"\""
   ]
  },
  {
   "cell_type": "markdown",
   "id": "4fbfb734-2e8f-439b-8a49-4fd2744d5ac9",
   "metadata": {},
   "source": [
    "## Q6."
   ]
  },
  {
   "cell_type": "markdown",
   "id": "2c4c742d-34e6-4033-b3cc-9bf4e9bbecca",
   "metadata": {},
   "source": [
    "\"\"\"\n",
    "A deadlock is a situation in which two or more threads or processes are unable to proceed because they are each waiting for the other to release a resource or take some action. Deadlocks occur when there's a circular dependency between two or more threads,\n",
    "where each thread is holding a resource that the other needs.\n",
    "\n",
    "A race condition occurs when the behavior of a program depends on the relative timing of events, often in a way that leads to unexpected and incorrect results. In a multi-threaded or multi-process environment, race conditions happen when two or more threads or processes access shared resources concurrently,\n",
    "and the final outcome depends on the order in which they execute.\n",
    "\"\"\""
   ]
  }
 ],
 "metadata": {
  "kernelspec": {
   "display_name": "Python 3 (ipykernel)",
   "language": "python",
   "name": "python3"
  },
  "language_info": {
   "codemirror_mode": {
    "name": "ipython",
    "version": 3
   },
   "file_extension": ".py",
   "mimetype": "text/x-python",
   "name": "python",
   "nbconvert_exporter": "python",
   "pygments_lexer": "ipython3",
   "version": "3.10.8"
  }
 },
 "nbformat": 4,
 "nbformat_minor": 5
}
